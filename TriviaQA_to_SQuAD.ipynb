{
  "nbformat": 4,
  "nbformat_minor": 0,
  "metadata": {
    "colab": {
      "provenance": [],
      "authorship_tag": "ABX9TyOY+9uXNMoIwZEZflsnUMip",
      "include_colab_link": true
    },
    "kernelspec": {
      "name": "python3",
      "display_name": "Python 3"
    },
    "language_info": {
      "name": "python"
    }
  },
  "cells": [
    {
      "cell_type": "markdown",
      "metadata": {
        "id": "view-in-github",
        "colab_type": "text"
      },
      "source": [
        "<a href=\"https://colab.research.google.com/github/Kkordik/NovelQSI/blob/main/TriviaQA_to_SQuAD.ipynb\" target=\"_parent\"><img src=\"https://colab.research.google.com/assets/colab-badge.svg\" alt=\"Open In Colab\"/></a>"
      ]
    },
    {
      "cell_type": "markdown",
      "source": [
        "# This is how to convert TriviaQA dataset to the squad format\n",
        "\n",
        "I will be using:\n",
        "https://github.com/mandarjoshi90/triviaqa\n",
        "\n",
        "\n",
        "NOTE, that just running all the cells is not enough, you will need to edit the /content/triviaqa/utils/convert_to_squad_format.py and /content/triviaqa/utils/dataset_utils.py files to let it work.\n",
        "\n",
        "Also before editing check the issue I've opened at github, maybe the problems have been already solved, at the same page I've described how to solve the problems if no changes in github's code were done:\n",
        "https://github.com/mandarjoshi90/triviaqa/issues/9"
      ],
      "metadata": {
        "id": "KwjfNlvd20il"
      }
    },
    {
      "cell_type": "code",
      "execution_count": null,
      "metadata": {
        "id": "Bh3--Dhrdh9d"
      },
      "outputs": [],
      "source": [
        "# @title Install TriviaQA dataset and extract all the dataset files from tar\n",
        "!wget https://nlp.cs.washington.edu/triviaqa/data/triviaqa-rc.tar.gz\n",
        "!tar -xf triviaqa-rc.tar.gz"
      ]
    },
    {
      "cell_type": "code",
      "source": [
        "# @title Install code from github triviaqa\n",
        "!git clone https://github.com/mandarjoshi90/triviaqa\n",
        "%cd /content/triviaqa"
      ],
      "metadata": {
        "id": "O57wkNkId2Al"
      },
      "execution_count": null,
      "outputs": []
    },
    {
      "cell_type": "code",
      "source": [
        "# @title Run the converting\n",
        "import nltk\n",
        "nltk.download('punkt')\n",
        "\n",
        "triviaqa_file = \"/content/qa/verified-web-dev.json\" # @param {type:\"string\"}\n",
        "squad_file = \"/content/qa/verified-web-dev-squad.json\" # @param {type:\"string\"}\n",
        "\n",
        "wikipedia_dir = \"/content/evidence/wikipedia\"\n",
        "web_dir = \"/content/evidence/web\"\n",
        "\n",
        "!python /content/triviaqa/utils/convert_to_squad_format.py --triviaqa_file $triviaqa_file --squad_file $squad_file --wikipedia_dir $wikipedia_dir --web_dir $web_dir"
      ],
      "metadata": {
        "id": "tJlY7u2lgX2Q"
      },
      "execution_count": null,
      "outputs": []
    },
    {
      "cell_type": "code",
      "source": [
        "# @title Install on local machine result file\n",
        "from google.colab import files\n",
        "files.download(squad_file)"
      ],
      "metadata": {
        "id": "kTR8Ymg0zS21"
      },
      "execution_count": null,
      "outputs": []
    }
  ]
}