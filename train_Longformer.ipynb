{
  "nbformat": 4,
  "nbformat_minor": 0,
  "metadata": {
    "colab": {
      "provenance": [],
      "machine_shape": "hm",
      "gpuType": "A100",
      "authorship_tag": "ABX9TyNNIsdbkVjAqradDnc7WNzK",
      "include_colab_link": true
    },
    "kernelspec": {
      "name": "python3",
      "display_name": "Python 3"
    },
    "language_info": {
      "name": "python"
    },
    "accelerator": "GPU"
  },
  "cells": [
    {
      "cell_type": "markdown",
      "metadata": {
        "id": "view-in-github",
        "colab_type": "text"
      },
      "source": [
        "<a href=\"https://colab.research.google.com/github/Kkordik/NovelQSI/blob/main/train_Longformer.ipynb\" target=\"_parent\"><img src=\"https://colab.research.google.com/assets/colab-badge.svg\" alt=\"Open In Colab\"/></a>"
      ]
    },
    {
      "cell_type": "markdown",
      "source": [
        "# In this notebook I fine tuned longformer-qa for Quote Speaker Identification task and published ne model to the HuggingFace\n"
      ],
      "metadata": {
        "id": "1L4L6aLgsHCu"
      }
    },
    {
      "cell_type": "code",
      "source": [
        "!pip install evaluate transformers[torch]"
      ],
      "metadata": {
        "id": "dHXgxh69Ohe2"
      },
      "execution_count": null,
      "outputs": []
    },
    {
      "cell_type": "markdown",
      "source": [
        "### Now you will login to your Hugging Face account by token\n",
        "\n",
        "**Use the token with \"write\" permission, as you will need it for pushing fine tined model to the hub**"
      ],
      "metadata": {
        "id": "fvX3Fngjo4Uc"
      }
    },
    {
      "cell_type": "code",
      "source": [
        "from huggingface_hub import notebook_login\n",
        "\n",
        "notebook_login()"
      ],
      "metadata": {
        "id": "AcntTGTJNAOx"
      },
      "execution_count": null,
      "outputs": []
    },
    {
      "cell_type": "code",
      "execution_count": null,
      "metadata": {
        "id": "uiM4Fd3dJl4S",
        "cellView": "form"
      },
      "outputs": [],
      "source": [
        "# @title Load dataset\n",
        "from datasets import load_dataset\n",
        "\n",
        "dataset = (load_dataset(\"Kkordik/NovelQSI\", split=\"train\").train_test_split(test_size=0.3))\n",
        "print(dataset)"
      ]
    },
    {
      "cell_type": "code",
      "source": [
        "# @title Prepare dataset\n",
        "from transformers import AutoTokenizer, AutoModelForQuestionAnswering\n",
        "\n",
        "pretrained_model = \"mrm8488/longformer-base-4096-finetuned-squadv2\" # @param {type:\"string\"}\n",
        "max_token_length = 4096 # @param\n",
        "\n",
        "tokenizer = AutoTokenizer.from_pretrained(pretrained_model)\n",
        "model = AutoModelForQuestionAnswering.from_pretrained(pretrained_model)\n",
        "\n",
        "\n",
        "def preprocess_function(examples):\n",
        "    questions = [q.strip() for q in examples[\"question\"]]\n",
        "    inputs = tokenizer(\n",
        "        questions,\n",
        "        examples[\"context\"],\n",
        "        max_length=max_token_length,\n",
        "        return_offsets_mapping=True,\n",
        "        padding=\"max_length\",\n",
        "    )\n",
        "\n",
        "    offset_mapping = inputs.pop(\"offset_mapping\")\n",
        "    answers = examples[\"answers\"]\n",
        "    start_positions = []\n",
        "    end_positions = []\n",
        "\n",
        "    for i, offset in enumerate(offset_mapping):\n",
        "        answer = answers[i]\n",
        "        start_char = answer[\"answer_start\"][0]\n",
        "        end_char = answer[\"answer_start\"][0] + len(answer[\"text\"][0])\n",
        "        sequence_ids = inputs.sequence_ids(i)\n",
        "\n",
        "        # Find the start and end of the context\n",
        "        idx = 0\n",
        "        while sequence_ids[idx] != 1:\n",
        "            idx += 1\n",
        "        context_start = idx\n",
        "        while sequence_ids[idx] == 1:\n",
        "            idx += 1\n",
        "        context_end = idx - 1\n",
        "\n",
        "        # If the answer is not fully inside the context, label it (0, 0)\n",
        "        if offset[context_start][0] > end_char or offset[context_end][1] < start_char:\n",
        "            start_positions.append(0)\n",
        "            end_positions.append(0)\n",
        "        else:\n",
        "            # Otherwise it's the start and end token positions\n",
        "            idx = context_start\n",
        "            while idx <= context_end and offset[idx][0] <= start_char:\n",
        "                idx += 1\n",
        "            start_positions.append(idx - 1)\n",
        "\n",
        "            idx = context_end\n",
        "            while idx >= context_start and offset[idx][1] >= end_char:\n",
        "                idx -= 1\n",
        "            end_positions.append(idx + 1)\n",
        "\n",
        "    inputs[\"start_positions\"] = start_positions\n",
        "    inputs[\"end_positions\"] = end_positions\n",
        "    return inputs\n",
        "\n",
        "\n",
        "tokenized_dataset = dataset.map(preprocess_function, batched=True, remove_columns=dataset[\"train\"].column_names)"
      ],
      "metadata": {
        "id": "0zonaV2_hBl-",
        "cellView": "form"
      },
      "execution_count": null,
      "outputs": []
    },
    {
      "cell_type": "markdown",
      "source": [
        "### Now you will have to configurate Trainer\n",
        "\n",
        "*model_hub_id*: is identifier of the model repository, where the fine tuned model will be pushed to. **Make sure that you have created one, and that at the start of the notebook loged in with \"write\" permission token**\n",
        "\n",
        "Don't touch other params if you don't know what you do."
      ],
      "metadata": {
        "id": "09sNJrgTqRrR"
      }
    },
    {
      "cell_type": "code",
      "source": [
        "# @title Configurate Trainer\n",
        "from transformers import TrainingArguments, Trainer, DefaultDataCollator\n",
        "\n",
        "model_hub_id = \"Kkordik/test_longformer_4096_qsi\" # @param {type: \"string\"}\n",
        "num_train_epochs = 3 # @param {type:\"integer\"}\n",
        "learning_rate = 2e-5 # @param\n",
        "\n",
        "data_collator = DefaultDataCollator()\n",
        "\n",
        "training_args = TrainingArguments(\n",
        "    output_dir=model_hub_id.split(\"/\")[1],\n",
        "    hub_model_id=model_hub_id,\n",
        "    evaluation_strategy=\"epoch\",\n",
        "    learning_rate=learning_rate,\n",
        "    gradient_accumulation_steps=8,\n",
        "    per_device_train_batch_size=1,\n",
        "    per_device_eval_batch_size=1,\n",
        "    num_train_epochs=num_train_epochs,\n",
        "    weight_decay=0.01,\n",
        "    push_to_hub=True\n",
        ")\n",
        "\n",
        "trainer = Trainer(\n",
        "    model=model,\n",
        "    args=training_args,\n",
        "    train_dataset=tokenized_dataset[\"train\"],\n",
        "    eval_dataset=tokenized_dataset[\"test\"],\n",
        "    tokenizer=tokenizer,\n",
        "    data_collator=data_collator,\n",
        ")"
      ],
      "metadata": {
        "id": "F07J2uZ0iD0v",
        "cellView": "form"
      },
      "execution_count": null,
      "outputs": []
    },
    {
      "cell_type": "code",
      "source": [
        "# @title Start training\n",
        "trainer.train()\n",
        "trainer.push_to_hub()"
      ],
      "metadata": {
        "id": "48_8B43fXNKY"
      },
      "execution_count": null,
      "outputs": []
    }
  ]
}